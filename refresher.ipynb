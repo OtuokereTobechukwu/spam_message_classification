{
 "cells": [
  {
   "cell_type": "code",
   "execution_count": null,
   "metadata": {},
   "outputs": [],
   "source": []
  }
 ],
 "metadata": {
  "interpreter": {
   "hash": "b0262be0358f49695933edfdeea84e0a9fc06f27886779f904a63b0cef2cf379"
  },
  "kernelspec": {
   "display_name": "Python 3.7.11 ('nlp_course')",
   "language": "python",
   "name": "python3"
  },
  "language_info": {
   "name": "python",
   "version": "3.7.11"
  },
  "orig_nbformat": 4
 },
 "nbformat": 4,
 "nbformat_minor": 2
}
